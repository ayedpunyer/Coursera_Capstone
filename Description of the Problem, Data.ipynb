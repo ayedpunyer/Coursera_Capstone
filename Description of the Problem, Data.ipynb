{
 "cells": [
  {
   "cell_type": "markdown",
   "metadata": {},
   "source": [
    "## Description of the Problem\n",
    "Road accidents are just one of a long list of road problems. Drivers can be in a road accident anytime and anywhere. Currently, road accidents are common all over the world. Every year, more than a thousands of people die in an accidents. And  today, road accident have become very usual. In addition, road user have also become irresponsible than ever. But, there is also another factor that contribute to car accident, such as road condition, weather, and others. This accidents can be fatal, hence we need to do our best in order to keep away from happening in the future.\n",
    "\n",
    "Thanks to technology, now it is plausible to predict accident mortality by taking into account several factors, such as climate, road conditions, light conditions, and others related. The goal for this project is to use relevant data and figure that can, among other things, help all road users. By using data analysis and training of distinct machine learning models, the best one will be selected to forecast the severity of the error based on some variables that will serve as predictors of frequency.\n",
    "\n",
    "## Description of the Data\n",
    "The dataset that will be used is open data released by the Traffic Records team of the SDOT Traffic Department Seattle, WA., and holds all types of collisions data from 2004 until 2020 with more than 190,000 case recorded and 37 attributes. Not all features are taken into account, only related features will be used for this project. This dataset contains data such as the severity of the collision, number of people injured and involved in the accident, date and time of collision, and others related to accident. In addition, even external factor like road and light conditions, weather and others were recorded. As for severity data, the values provided a code that corresponds to the severy of the collision. For code of 1, it means damage; while code 2 means injury happen; and code 3 means fatality. For unknown severity, the code is 0."
   ]
  }
 ],
 "metadata": {
  "kernelspec": {
   "display_name": "Python",
   "language": "python",
   "name": "conda-env-python-py"
  },
  "language_info": {
   "codemirror_mode": {
    "name": "ipython",
    "version": 3
   },
   "file_extension": ".py",
   "mimetype": "text/x-python",
   "name": "python",
   "nbconvert_exporter": "python",
   "pygments_lexer": "ipython3",
   "version": "3.6.11"
  }
 },
 "nbformat": 4,
 "nbformat_minor": 4
}
