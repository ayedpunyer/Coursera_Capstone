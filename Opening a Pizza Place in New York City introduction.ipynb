{
 "cells": [
  {
   "cell_type": "markdown",
   "metadata": {},
   "source": [
    "# **The Battle of Neighborhoods:** Opening a Pizza Place in New York City"
   ]
  },
  {
   "cell_type": "markdown",
   "metadata": {},
   "source": [
    "### **Introduction**\n",
    "\n",
    "Pizza can be traced back to Naples, Italy in late 18th century. Although the origin of the word pizza is not clear, the Italians are credited with coining the term pizza. According to Carol Helstoski, pizza was brought to the United States with Italian immigrants in the late nineteenth century and first appeared in areas where Italian immigrants concentrated. Lombardi's, the country's first pizzeria is opened in 1905.\n",
    "\n",
    "And fast forward, pizza has been one of America’s favorite Italian foods since it was introduced to the United States in the early 1900’s. Since then, it has become increasingly popular across the country. Every restaurant has its unique way of preparing pizza and each one is always coming out with new and appetizing products.\n",
    "\n",
    "As for this project, I will explore the  best locations for pizza place around the  city  of  New  York. **The target audience for this would be entrepreneur or potential investors who are looking to open a pizza place at New York City.** Since pizza is one of the most famous foods in United States, the business owner potentially can have great success and encouraging response from the people. That being said, opening a new restaurant requires serious considerations need to be taken; such as location, target customers, competitors, and others. In general, the location  of the premise is one of the crucial factors that will affect whether it will make it or break it. Hence, a good decision making is very important here, since there are a lot of pizza place in New York City.\n",
    "\n",
    "**This project will provide an answer for the problems that investors need to be considered;** Which part of New York should I focus on to open a pizza place? What neighborhood would get a good reception to open a pizza place?\n",
    "\n",
    "\n",
    "### **Data**\n",
    "\n",
    "**To solve the problem, we will use data from the following source:**\n",
    "1. https://cocl.us/new_york_dataset - Data containing the neighborhoods and boroughs of New York City.\n",
    "2. Python Geocoder - Data of latitude and longitude coordinates of the neighborhoods.\n",
    "3. Foursquare API - Data containing the venue and location of several restaurants at New York City\n",
    "\n",
    "First, we need to get the data of neighborhoods and boroughs of New York City, which will be obtain from this source; https://cocl.us/new_york_dataset. Second, using Python Geocoder, we need to label those neighborhoods and boroughs with geographical coordinates, which is latitude and longitude. Lastly, with databases of more than 100 million places, we will work with Foursquare API to get the data that containing all data related regarding pizza place at New York City. Some of the Python packages that will be used to handle the data includes; Pandas, NumPy, Geopy, Folium, and others.\n",
    "\n"
   ]
  }
 ],
 "metadata": {
  "kernelspec": {
   "display_name": "Python",
   "language": "python",
   "name": "conda-env-python-py"
  },
  "language_info": {
   "codemirror_mode": {
    "name": "ipython",
    "version": 3
   },
   "file_extension": ".py",
   "mimetype": "text/x-python",
   "name": "python",
   "nbconvert_exporter": "python",
   "pygments_lexer": "ipython3",
   "version": "3.6.11"
  }
 },
 "nbformat": 4,
 "nbformat_minor": 4
}
